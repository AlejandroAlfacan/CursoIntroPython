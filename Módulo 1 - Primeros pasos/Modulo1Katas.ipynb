{
  "cells": [
    {
      "cell_type": "markdown",
      "metadata": {},
      "source": [
        "Oficial superior> \"¿Cadete?\"\n",
        "\n",
        "Usted > \"¿Sí, señora?\"\n",
        "\n",
        "Oficial superior> \"¿Puedes construir un programa que me muestre la fecha? La computadora del barco no venía con mucho en términos de programas de utilidad, por lo que necesitamos crear los que necesitamos. ¿Puedo confiar en ti con esto?\"\n",
        "\n",
        "Usted > \"Considéralo hecho\".\n",
        "\n",
        "Oficial superior> \"Excelente\".\n",
        "\n",
        "## Tu primer programa\n",
        "\n",
        "Para crear este programa, deberás utilizar los conceptos que aprendiste en el último módulo. Usarás Jupyter Notebook en este ejercicio, que es una combinación de texto y código con la que puede interactuar. Finaliza el código siguiente para que el resultado muestre la fecha de hoy."
      ]
    },
    {
      "cell_type": "code",
      "execution_count": 5,
      "metadata": {},
      "outputs": [
        {
          "ename": "NameError",
          "evalue": "name 'datetime' is not defined",
          "output_type": "error",
          "traceback": [
            "\u001b[1;31m---------------------------------------------------------------------------\u001b[0m",
            "\u001b[1;31mNameError\u001b[0m                                 Traceback (most recent call last)",
            "\u001b[1;32mp:\\CursoIntroPython\\Módulo 1 - Primeros pasos\\Modulo1Katas.ipynb Cell 2'\u001b[0m in \u001b[0;36m<module>\u001b[1;34m\u001b[0m\n\u001b[0;32m      <a href='vscode-notebook-cell:/p%3A/CursoIntroPython/M%C3%B3dulo%201%20-%20Primeros%20pasos/Modulo1Katas.ipynb#ch0000001?line=0'>1</a>\u001b[0m \u001b[39mfrom\u001b[39;00m \u001b[39mdatetime\u001b[39;00m \u001b[39mimport\u001b[39;00m date\n\u001b[1;32m----> <a href='vscode-notebook-cell:/p%3A/CursoIntroPython/M%C3%B3dulo%201%20-%20Primeros%20pasos/Modulo1Katas.ipynb#ch0000001?line=2'>3</a>\u001b[0m \u001b[39mprint\u001b[39m(\u001b[39m\"\u001b[39m\u001b[39mToday\u001b[39m\u001b[39m'\u001b[39m\u001b[39ms date is: \u001b[39m\u001b[39m\"\u001b[39m\u001b[39m+\u001b[39m datetime\u001b[39m.\u001b[39mtoday)\n",
            "\u001b[1;31mNameError\u001b[0m: name 'datetime' is not defined"
          ]
        }
      ],
      "source": [
        "from datetime import date\n",
        "\n",
        "print(\"Today's date is: \"+ date.today)"
      ]
    },
    {
      "cell_type": "markdown",
      "metadata": {},
      "source": [
        "> **TIP**\n",
        "> Dedique unos minutos a tratar de encontrar una solución. Luego desplácese hacia abajo hasta la parte inferior para ver si ha logrado compilar el programa de acuerdo con las especificaciones.\n",
        "\n",
        "## Construir un convertidor de unidades\n",
        "\n",
        "El oficial superior> \"Necesito una cosa más: un programa de conversión entre parsecs y años luz. Tener un programa de este tipo podría ser realmente útil en el puente para trazar nuestro curso\".\n",
        "\n",
        "Tú> \"¡Lo haré!\"\n"
      ]
    },
    {
      "cell_type": "code",
      "execution_count": null,
      "metadata": {},
      "outputs": [],
      "source": [
        "parsec = 11\n",
        "\n",
        "lightyears = 0\n",
        "\n",
        "print(str(parsec) + \" parsec, is \" + str(lightyears) + \" lightyears\")"
      ]
    },
    {
      "cell_type": "markdown",
      "metadata": {},
      "source": [
        "> [!TIP]\n",
        "> 1 parsec es 3.26156 años luz. Utiliza el operador de multiplicación."
      ]
    },
    {
      "cell_type": "markdown",
      "metadata": {},
      "source": [
        "## Soluciones\n",
        "\n",
        "Aquí está la solución para el primer programa:"
      ]
    },
    {
      "cell_type": "code",
      "execution_count": null,
      "metadata": {},
      "outputs": [],
      "source": [
        "from datetime import date\n",
        "\n",
        "print(\"Today's date is: \" + str(date.today()))"
      ]
    },
    {
      "cell_type": "code",
      "execution_count": null,
      "metadata": {},
      "outputs": [],
      "source": [
        "parsec = 11\n",
        "lightyears = 3.26156 * parsec\n",
        "\n",
        "print(str(parsec) + \" parsec, is \" + str(lightyears) + \" lightyears\")"
      ]
    },
    {
      "cell_type": "markdown",
      "metadata": {},
      "source": [
        "Curso Propedútico de Python para Launch X - Innovacción Virtual.\n",
        "\n",
        "Material desarrollado con base en los contenidos de MSLearn y la metáfora de LaunchX, traducción e implementación por: Fernanda Ochoa - Learning Producer de LaunchX.\n",
        "\n",
        "Redes:\n",
        "* GitHub: [FernandaOchoa](https://github.com/FernandaOchoa)\n",
        "* Twitter: [@imonsh](https://twitter.com/imonsh)\n",
        "* Instagram: [fherz8a](https://www.instagram.com/fherz8a/)"
      ]
    }
  ],
  "metadata": {
    "interpreter": {
      "hash": "5dba467ea53b034018c0b9f7583d4096329493f5cc270f7e5e0afb59c573d6db"
    },
    "kernel_info": {
      "name": "conda-env-py37_default-py"
    },
    "kernelspec": {
      "display_name": "py37_default",
      "language": "python",
      "name": "python3"
    },
    "language_info": {
      "codemirror_mode": {
        "name": "ipython",
        "version": 3
      },
      "file_extension": ".py",
      "mimetype": "text/x-python",
      "name": "python",
      "nbconvert_exporter": "python",
      "pygments_lexer": "ipython3",
      "version": "3.10.2"
    },
    "nteract": {
      "version": "nteract-front-end@1.0.0"
    },
    "orig_nbformat": 4
  },
  "nbformat": 4,
  "nbformat_minor": 2
}
